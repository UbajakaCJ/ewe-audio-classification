{
 "cells": [
  {
   "cell_type": "code",
   "execution_count": 1,
   "metadata": {},
   "outputs": [],
   "source": [
    "import pandas as pd\n",
    "import torch\n",
    "import torch.nn as nn\n",
    "import torch.nn.functional as F\n",
    "import torch.optim as optim\n",
    "import librosa\n",
    "import numpy as np\n",
    "from torch.utils.data import Dataset, DataLoader\n",
    "from sklearn.model_selection import StratifiedShuffleSplit\n",
    "from sklearn.metrics import accuracy_score, mean_squared_error\n",
    "from sklearn.metrics import precision_score, recall_score, f1_score, roc_auc_score\n",
    "from sklearn.metrics import confusion_matrix\n",
    "\n",
    "# Paths to the audio files (adjust based on your directory)\n",
    "audio_folder = 'C:/Users/Laptop/Documents/AI/zindi/ewe_1/files/audio_files/'\n",
    "train_csv_path = 'Train.csv'\n",
    "test_csv_path = 'Test_1.csv'\n",
    "submission_csv_path = 'SampleSubmission_1.csv'"
   ]
  },
  {
   "cell_type": "code",
   "execution_count": 2,
   "metadata": {},
   "outputs": [],
   "source": [
    "# Load CSV files\n",
    "train_data = pd.read_csv(train_csv_path)\n",
    "test_data = pd.read_csv(test_csv_path)\n",
    "sample_submission = pd.read_csv(submission_csv_path)"
   ]
  },
  {
   "cell_type": "code",
   "execution_count": 3,
   "metadata": {},
   "outputs": [],
   "source": [
    "# Method 2: Using StratifiedShuffleSplit\n",
    "sss = StratifiedShuffleSplit(n_splits=1, test_size=0.17, random_state=58)\n",
    "\n",
    "for train_index, val_index in sss.split(train_data.drop('class', axis=1), train_data['class']):\n",
    "    train_df, val_df = train_data.iloc[train_index], train_data.iloc[val_index]"
   ]
  },
  {
   "cell_type": "code",
   "execution_count": 5,
   "metadata": {},
   "outputs": [],
   "source": [
    "# train_df = train_df.reset_index()\n",
    "# train_df.pop('index')\n",
    "# # train_df"
   ]
  },
  {
   "cell_type": "code",
   "execution_count": 7,
   "metadata": {},
   "outputs": [],
   "source": [
    "# val_df = val_df.reset_index()\n",
    "# val_df.pop('index')\n",
    "# # val_df"
   ]
  },
  {
   "cell_type": "code",
   "execution_count": 8,
   "metadata": {},
   "outputs": [],
   "source": [
    "# One-hot encode labels (if necessary) \n",
    "from sklearn.preprocessing import LabelEncoder\n",
    "\n",
    "le = LabelEncoder()\n",
    "train_labels = le.fit_transform(train_df['class'])\n",
    "train_df['labels'] = train_labels\n",
    "\n",
    "le_val = LabelEncoder()\n",
    "val_labels = le_val.fit_transform(val_df['class'])\n",
    "val_df['labels'] = val_labels"
   ]
  },
  {
   "cell_type": "code",
   "execution_count": 9,
   "metadata": {},
   "outputs": [],
   "source": [
    "import librosa\n",
    "import numpy as np\n",
    "import torch\n",
    "import torch.nn.functional as F\n",
    "from scipy.signal import butter, lfilter\n",
    "\n",
    "# Bandpass filter (removes irrelevant frequency bands)\n",
    "def butter_bandpass(lowcut, highcut, fs, order=5):\n",
    "    nyquist = 0.5 * fs\n",
    "    low = lowcut / nyquist\n",
    "    high = highcut / nyquist\n",
    "    b, a = butter(order, [low, high], btype='band')\n",
    "    return b, a\n",
    "\n",
    "def bandpass_filter(data, lowcut, highcut, fs, order=5):\n",
    "    b, a = butter_bandpass(lowcut, highcut, fs, order=order)\n",
    "    y = lfilter(b, a, data)\n",
    "    return y\n",
    "\n",
    "def extract_mfcc(file_path, n_mfcc=40, max_len=100):\n",
    "    \"\"\"Extract MFCC features from an audio file.\"\"\"\n",
    "    audio, sample_rate = librosa.load(file_path, res_type='kaiser_fast')\n",
    "    mfccs = librosa.feature.mfcc(y=audio, sr=sample_rate, n_mfcc=n_mfcc)\n",
    "\n",
    "# Extract features (time-domain and frequency-domain)\n",
    "def extract_features(file_path, n_mels=40, max_length=100):  # audio_file => file_path\n",
    "    # Load the audio file\n",
    "    audio, sr = librosa.load(file_path)\n",
    "    \n",
    "    # Apply bandpass filter (e.g., remove frequencies outside 20-4000 Hz)\n",
    "    filtered_audio = bandpass_filter(audio, lowcut=20, highcut=4000, fs=sr)\n",
    "    \n",
    "    # Time-domain features\n",
    "    rms = librosa.feature.rms(y=filtered_audio)  # Root Mean Square energy\n",
    "    zcr = librosa.feature.zero_crossing_rate(filtered_audio)  # Zero-crossing rate\n",
    "    \n",
    "    # Frequency-domain features\n",
    "    spectral_centroid = librosa.feature.spectral_centroid(y=filtered_audio, sr=sr)\n",
    "    spectral_bandwidth = librosa.feature.spectral_bandwidth(y=filtered_audio, sr=sr)\n",
    "    spectral_flux = np.diff(librosa.feature.spectral_bandwidth(y=filtered_audio, sr=sr), axis=1)\n",
    "    \n",
    "    # Time-frequency representation: Mel-spectrogram\n",
    "    mel_spectrogram = librosa.feature.melspectrogram(y=filtered_audio, sr=sr, n_mels=n_mels)\n",
    "    \n",
    "    # Convert to decibels for better representation\n",
    "    mel_spectrogram_db = librosa.power_to_db(mel_spectrogram, ref=np.max)\n",
    "\n",
    "    # mfcc\n",
    "    mfcc = librosa.feature.mfcc(y=filtered_audio, sr=sr, n_mfcc=n_mels)\n",
    "   \n",
    "    # Ensure all features have the same length (pad/truncate)\n",
    "    def pad_or_truncate(feature, target_length=max_length):\n",
    "        if feature.shape[1] < target_length:\n",
    "            padding = target_length - feature.shape[1]\n",
    "            feature = np.pad(feature, ((0, 0), (0, padding)), 'constant')\n",
    "        else:\n",
    "            feature = feature[:, :target_length]\n",
    "        return feature\n",
    "\n",
    "    # rms = pad_or_truncate(rms)\n",
    "    # zcr = pad_or_truncate(zcr)\n",
    "    # spectral_centroid = pad_or_truncate(spectral_centroid)\n",
    "    # spectral_bandwidth = pad_or_truncate(spectral_bandwidth)\n",
    "    # spectral_flux = pad_or_truncate(spectral_flux)\n",
    "    mel_spectrogram_db = pad_or_truncate(mel_spectrogram_db)\n",
    "    mfcc = pad_or_truncate(mfcc)\n",
    "\n",
    "    # print(f'rms: {rms.shape}, zcr: {zcr.shape}, spectral_centroid: {spectral_centroid.shape}')\n",
    "    # print(f'spectral_bandwidth: {spectral_bandwidth.shape}, spectral_flux: {spectral_flux.shape}')\n",
    "    # print(f'mel_spectrogram_db: {mel_spectrogram_db.shape}')\n",
    "    # print(f'mfcc {mfcc.shape}')\n",
    "\n",
    "    # features = np.vstack([mel_spectrogram_db, mfcc])\n",
    "    features =  (mel_spectrogram_db + mfcc) / 2\n",
    "    # print(f'features: {features.shape}')\n",
    "\n",
    "    return features\n",
    "\n",
    "\n",
    "    # return mfcc\n",
    "    # return mel_spectrogram_db\n",
    "    \n",
    "    # # Stack features together (optional, but makes use of all features)\n",
    "    # features = np.vstack([rms, zcr, spectral_centroid, spectral_bandwidth, spectral_flux, mel_spectrogram_db])\n",
    "    \n",
    "    # # Convert to PyTorch tensor\n",
    "    # features_tensor = torch.tensor(features, dtype=torch.float32)\n",
    "    \n",
    "    # return features_tensor\n",
    "\n",
    "# Preprocess multiple audio files\n",
    "def preprocess_audio_files(audio_file_list, sample_rate=100, n_mels=40, max_length=100):\n",
    "    feature_tensors = []\n",
    "    for audio_file in audio_file_list:\n",
    "        features = extract_features(audio_file, sample_rate, n_mels, max_length)\n",
    "        feature_tensors.append(features)\n",
    "    \n",
    "    # Stack the tensors along a new batch dimension\n",
    "    batched_features = torch.stack(feature_tensors)\n",
    "\n",
    "    return batched_features\n",
    "\n",
    "# ========================================================================================== \n",
    "\n",
    "    # # Convert the tensor to NumPy array\n",
    "    # numpy_array = batched_features.numpy()\n",
    "\n",
    "    # # Reshape to 2D array where each row is a feature vector\n",
    "    # reshaped_array = numpy_array.reshape(numpy_array.shape[0], -1)  # (batch_size, num_features * height * width)\n",
    "\n",
    "    # # Create a DataFrame\n",
    "    # df = pd.DataFrame(reshaped_array)\n",
    "\n",
    "    # df['features'] = df.apply(lambda row: row.tolist(), axis=1)\n",
    "\n",
    "\n",
    "    # return df[['features']]\n",
    "\n",
    "\n",
    "    # return feature_tensors\n",
    "    \n",
    "    return batched_features\n"
   ]
  },
  {
   "cell_type": "code",
   "execution_count": null,
   "metadata": {},
   "outputs": [],
   "source": []
  },
  {
   "cell_type": "code",
   "execution_count": null,
   "metadata": {},
   "outputs": [],
   "source": []
  },
  {
   "cell_type": "code",
   "execution_count": 10,
   "metadata": {},
   "outputs": [],
   "source": [
    "# Helper function to extract MFCCs\n",
    "def extract_mfcc(file_path, n_mfcc=40, max_len=100):\n",
    "    \"\"\"Extract MFCC features from an audio file.\"\"\"\n",
    "    audio, sample_rate = librosa.load(file_path, res_type='kaiser_fast')\n",
    "    mfccs = librosa.feature.mfcc(y=audio, sr=sample_rate, n_mfcc=n_mfcc)\n",
    "    \n",
    "    # Pad or truncate the mfccs to the same length\n",
    "    if mfccs.shape[1] < max_len:\n",
    "        pad_width = max_len - mfccs.shape[1]\n",
    "        mfccs = np.pad(mfccs, pad_width=((0, 0), (0, pad_width)), mode='constant')\n",
    "    else:\n",
    "        mfccs = mfccs[:, :max_len]\n",
    "    \n",
    "    return mfccs"
   ]
  },
  {
   "cell_type": "code",
   "execution_count": 11,
   "metadata": {},
   "outputs": [],
   "source": [
    "# PyTorch Dataset class for loading data\n",
    "class AudioDataset(Dataset):\n",
    "    def __init__(self, data, audio_folder, is_train=True, transform=None):\n",
    "        self.data = data\n",
    "        self.audio_folder = audio_folder\n",
    "        self.is_train = is_train\n",
    "        self.transform = transform\n",
    "\n",
    "    def __len__(self):\n",
    "        return len(self.data)\n",
    "\n",
    "    def __getitem__(self, idx):\n",
    "        file_name = self.data.loc[idx, 'audio_filepath']\n",
    "        file_path = self.audio_folder + file_name\n",
    "        if self.is_train:\n",
    "            label = self.data.loc[idx, 'labels']\n",
    "        else:\n",
    "            label = -1  # No label for test set\n",
    "\n",
    "        # Extract features\n",
    "        features = extract_features(file_path)\n",
    "        # features = extract_mfcc(file_path)\n",
    "\n",
    "        if self.transform:\n",
    "            features = self.transform(features)\n",
    "\n",
    "        features = torch.tensor(features, dtype=torch.float32)\n",
    "        return features, label"
   ]
  },
  {
   "cell_type": "code",
   "execution_count": 12,
   "metadata": {},
   "outputs": [],
   "source": [
    "# Define a simple CNN for classification\n",
    "class SpeechClassifier(nn.Module):\n",
    "    def __init__(self, num_classes):\n",
    "        super(SpeechClassifier, self).__init__()\n",
    "        self.conv1 = nn.Conv2d(1, 16, kernel_size=3, stride=1, padding=1)\n",
    "        self.conv2 = nn.Conv2d(16, 32, kernel_size=3, stride=1, padding=1)\n",
    "        self.pool = nn.MaxPool2d(kernel_size=2, stride=2, padding=0)\n",
    "        self.fc1 = nn.Linear(32 * 10 * 25, 128)  # Adjust based on MFCC feature size\n",
    "        self.fc2 = nn.Linear(128, num_classes)\n",
    "\n",
    "    def forward(self, x):\n",
    "        x = x.unsqueeze(1)  # Add channel dimension\n",
    "        x = self.pool(F.relu(self.conv1(x)))\n",
    "        x = self.pool(F.relu(self.conv2(x)))\n",
    "        x = x.view(-1, 32 * 10 * 25)  # Flatten the tensor\n",
    "        x = F.relu(self.fc1(x))\n",
    "        x = self.fc2(x)\n",
    "        return x"
   ]
  },
  {
   "cell_type": "code",
   "execution_count": 13,
   "metadata": {},
   "outputs": [],
   "source": [
    "# Load the training and test datasets\n",
    "train_dataset = AudioDataset(train_df, audio_folder, is_train=True)\n",
    "val_dataset = AudioDataset(val_df, audio_folder, is_train=False)\n",
    "# test_dataset = AudioDataset(test_data, audio_folder, is_train=False)\n",
    "\n",
    "train_loader = DataLoader(train_dataset, batch_size=32, shuffle=True)\n",
    "val_loader = DataLoader(val_dataset, batch_size=32, shuffle=False)\n",
    "# test_loader = DataLoader(test_dataset, batch_size=32, shuffle=False)"
   ]
  },
  {
   "cell_type": "code",
   "execution_count": 14,
   "metadata": {},
   "outputs": [],
   "source": [
    "# Initialize the model, loss function, and optimizer\n",
    "num_classes = len(train_df['labels'].unique())  # Assuming labels are integers\n",
    "model = SpeechClassifier(num_classes=num_classes)\n",
    "criterion = nn.CrossEntropyLoss()\n",
    "optimizer = optim.Adam(model.parameters(), lr=0.001)"
   ]
  },
  {
   "cell_type": "code",
   "execution_count": 15,
   "metadata": {},
   "outputs": [
    {
     "name": "stdout",
     "output_type": "stream",
     "text": [
      "Epoch [1/10], Loss: 1.2417\n",
      "Epoch [2/10], Loss: 0.0727\n",
      "Epoch [3/10], Loss: 0.0259\n",
      "Epoch [4/10], Loss: 0.0115\n",
      "Epoch [5/10], Loss: 0.0106\n",
      "Epoch [6/10], Loss: 0.0087\n",
      "Epoch [7/10], Loss: 0.0046\n",
      "Epoch [8/10], Loss: 0.0045\n",
      "Epoch [9/10], Loss: 0.0031\n",
      "Epoch [10/10], Loss: 0.0044\n"
     ]
    }
   ],
   "source": [
    "# Train the model\n",
    "num_epochs = 10\n",
    "for epoch in range(num_epochs):\n",
    "    model.train()\n",
    "    running_loss = 0.0\n",
    "    for mfccs, labels in train_loader:\n",
    "        mfccs = mfccs.float()\n",
    "        labels = labels.long()\n",
    "\n",
    "        optimizer.zero_grad()\n",
    "        # print(f'mfccs.shape: {mfccs.shape}')\n",
    "        outputs = model(mfccs)\n",
    "        loss = criterion(outputs, labels)\n",
    "        loss.backward()\n",
    "        optimizer.step()\n",
    "\n",
    "        running_loss += loss.item()\n",
    "    print(f\"Epoch [{epoch+1}/{num_epochs}], Loss: {running_loss/len(train_loader):.4f}\")\n",
    "\n",
    "# Predict on the val set\n",
    "model.eval()\n",
    "predictions = []\n",
    "\n",
    "with torch.no_grad():\n",
    "    for mfccs, _ in val_loader:\n",
    "        outputs = model(mfccs)\n",
    "        _, predicted = torch.max(outputs, 1)\n",
    "        predictions.extend(predicted.cpu().numpy())\n"
   ]
  },
  {
   "cell_type": "code",
   "execution_count": 16,
   "metadata": {},
   "outputs": [
    {
     "data": {
      "text/plain": [
       "0.9900771775082691"
      ]
     },
     "execution_count": 16,
     "metadata": {},
     "output_type": "execute_result"
    }
   ],
   "source": [
    "new_df = pd.DataFrame(data={'predictions':predictions, 'labels': val_df['labels']})\n",
    "new_df['accuracy'] = new_df['predictions'] == new_df['labels']\n",
    "new_df['accuracy'] = new_df['accuracy'].apply(lambda x: int(x))\n",
    "new_df['accuracy'].sum()/len(new_df)"
   ]
  },
  {
   "cell_type": "code",
   "execution_count": 17,
   "metadata": {},
   "outputs": [
    {
     "name": "stdout",
     "output_type": "stream",
     "text": [
      "Accuracy Score: 0.9900771775082691\n",
      "Mean Squared Error: 0.08930540242557883\n"
     ]
    }
   ],
   "source": [
    "print(f'Accuracy Score: {accuracy_score(new_df.predictions, new_df.labels)}')\n",
    "print(f'Mean Squared Error: {mean_squared_error(new_df.predictions, new_df.labels)}')"
   ]
  },
  {
   "cell_type": "code",
   "execution_count": 18,
   "metadata": {},
   "outputs": [
    {
     "data": {
      "text/html": [
       "<div>\n",
       "<style scoped>\n",
       "    .dataframe tbody tr th:only-of-type {\n",
       "        vertical-align: middle;\n",
       "    }\n",
       "\n",
       "    .dataframe tbody tr th {\n",
       "        vertical-align: top;\n",
       "    }\n",
       "\n",
       "    .dataframe thead th {\n",
       "        text-align: right;\n",
       "    }\n",
       "</style>\n",
       "<table border=\"1\" class=\"dataframe\">\n",
       "  <thead>\n",
       "    <tr style=\"text-align: right;\">\n",
       "      <th></th>\n",
       "      <th>predictions</th>\n",
       "      <th>labels</th>\n",
       "      <th>accuracy</th>\n",
       "    </tr>\n",
       "  </thead>\n",
       "  <tbody>\n",
       "    <tr>\n",
       "      <th>125</th>\n",
       "      <td>3</td>\n",
       "      <td>6</td>\n",
       "      <td>0</td>\n",
       "    </tr>\n",
       "    <tr>\n",
       "      <th>200</th>\n",
       "      <td>3</td>\n",
       "      <td>6</td>\n",
       "      <td>0</td>\n",
       "    </tr>\n",
       "    <tr>\n",
       "      <th>291</th>\n",
       "      <td>3</td>\n",
       "      <td>6</td>\n",
       "      <td>0</td>\n",
       "    </tr>\n",
       "    <tr>\n",
       "      <th>294</th>\n",
       "      <td>3</td>\n",
       "      <td>6</td>\n",
       "      <td>0</td>\n",
       "    </tr>\n",
       "    <tr>\n",
       "      <th>439</th>\n",
       "      <td>3</td>\n",
       "      <td>6</td>\n",
       "      <td>0</td>\n",
       "    </tr>\n",
       "    <tr>\n",
       "      <th>589</th>\n",
       "      <td>3</td>\n",
       "      <td>6</td>\n",
       "      <td>0</td>\n",
       "    </tr>\n",
       "    <tr>\n",
       "      <th>655</th>\n",
       "      <td>3</td>\n",
       "      <td>6</td>\n",
       "      <td>0</td>\n",
       "    </tr>\n",
       "    <tr>\n",
       "      <th>705</th>\n",
       "      <td>3</td>\n",
       "      <td>6</td>\n",
       "      <td>0</td>\n",
       "    </tr>\n",
       "    <tr>\n",
       "      <th>793</th>\n",
       "      <td>3</td>\n",
       "      <td>6</td>\n",
       "      <td>0</td>\n",
       "    </tr>\n",
       "  </tbody>\n",
       "</table>\n",
       "</div>"
      ],
      "text/plain": [
       "     predictions  labels  accuracy\n",
       "125            3       6         0\n",
       "200            3       6         0\n",
       "291            3       6         0\n",
       "294            3       6         0\n",
       "439            3       6         0\n",
       "589            3       6         0\n",
       "655            3       6         0\n",
       "705            3       6         0\n",
       "793            3       6         0"
      ]
     },
     "execution_count": 18,
     "metadata": {},
     "output_type": "execute_result"
    }
   ],
   "source": [
    "new_df[new_df.accuracy == 0]"
   ]
  },
  {
   "cell_type": "code",
   "execution_count": 19,
   "metadata": {},
   "outputs": [],
   "source": [
    "# encode the prediction and the value labels\n",
    "from sklearn.preprocessing import LabelBinarizer\n",
    "\n",
    "df = pd.DataFrame(new_df.labels)\n",
    "\n",
    "lb = LabelBinarizer()\n",
    "encoded = lb.fit_transform(df['labels'])\n",
    "\n",
    "preds_df = pd.DataFrame(new_df.predictions)\n",
    "preds_encoded = lb.fit_transform(preds_df['predictions'])\n",
    "\n",
    "# cross check two data frames for accuracy "
   ]
  },
  {
   "cell_type": "code",
   "execution_count": 20,
   "metadata": {},
   "outputs": [
    {
     "data": {
      "text/plain": [
       "0.9942257741409752"
      ]
     },
     "execution_count": 20,
     "metadata": {},
     "output_type": "execute_result"
    }
   ],
   "source": [
    "roc_auc = roc_auc_score(encoded, preds_encoded )\n",
    "roc_auc"
   ]
  },
  {
   "cell_type": "code",
   "execution_count": 21,
   "metadata": {},
   "outputs": [],
   "source": [
    "# Assuming 'y_pred' and 'y_true' are your predicted and true labels\n",
    "def calculate_metrics(y_true, y_pred):\n",
    "\n",
    "    precision = precision_score(y_true, y_pred, average='macro')\n",
    "    recall = recall_score(y_true, y_pred, average='macro')\n",
    "    f1 = f1_score(y_true, y_pred, average='macro')\n",
    "    # roc_auc = roc_auc_score(y_true, y_pred, average='macro', multi_class='ovo')\n",
    "\n",
    "    print(\"Precision:\", precision)\n",
    "    print(\"Recall:\", recall)\n",
    "    print(\"F1-score:\", f1)\n",
    "\n",
    "    # Confusion Matrix\n",
    "    cm = confusion_matrix(y_true, y_pred)\n",
    "    print(\"Confusion Matrix:\\n\", cm)"
   ]
  },
  {
   "cell_type": "code",
   "execution_count": 22,
   "metadata": {},
   "outputs": [
    {
     "name": "stdout",
     "output_type": "stream",
     "text": [
      "Precision: 0.990625\n",
      "Recall: 0.9898648648648649\n",
      "F1-score: 0.9898481799890251\n",
      "Confusion Matrix:\n",
      " [[113   0   0   0   0   0   0   0]\n",
      " [  0 129   0   0   0   0   0   0]\n",
      " [  0   0 111   0   0   0   0   0]\n",
      " [  0   0   0 111   0   0   0   0]\n",
      " [  0   0   0   0 110   0   0   0]\n",
      " [  0   0   0   0   0 111   0   0]\n",
      " [  0   0   0   9   0   0 102   0]\n",
      " [  0   0   0   0   0   0   0 111]]\n",
      "Metrics: None\n"
     ]
    }
   ],
   "source": [
    "print(f'Metrics: {calculate_metrics(new_df.labels, new_df.predictions)}')"
   ]
  },
  {
   "cell_type": "code",
   "execution_count": 23,
   "metadata": {},
   "outputs": [],
   "source": [
    "# For overfitting, evaluate on the train data \n",
    "\n",
    "# Predict on the train set\n",
    "model.eval()\n",
    "preds_train = []\n",
    "\n",
    "with torch.no_grad():\n",
    "    for mfccs, _ in train_loader:\n",
    "        outputs = model(mfccs)\n",
    "        _, predicted = torch.max(outputs, 1)\n",
    "        preds_train.extend(predicted.cpu().numpy())"
   ]
  },
  {
   "cell_type": "code",
   "execution_count": 24,
   "metadata": {},
   "outputs": [
    {
     "data": {
      "text/plain": [
       "0.12536706573300202"
      ]
     },
     "execution_count": 24,
     "metadata": {},
     "output_type": "execute_result"
    }
   ],
   "source": [
    "accuracy_score(preds_train, train_df['labels']) = 0.12536706573300202"
   ]
  },
  {
   "cell_type": "code",
   "execution_count": 25,
   "metadata": {},
   "outputs": [
    {
     "name": "stdout",
     "output_type": "stream",
     "text": [
      "Precision: 0.1249099013193283\n",
      "Recall: 0.12477003999419504\n",
      "F1-score: 0.12479974323996271\n",
      "Confusion Matrix:\n",
      " [[69 70 70 68 76 62 72 65]\n",
      " [70 93 83 72 71 83 68 90]\n",
      " [60 79 69 75 64 61 64 68]\n",
      " [76 82 69 76 63 76 75 62]\n",
      " [74 81 64 68 56 71 64 63]\n",
      " [67 92 62 55 65 68 69 66]\n",
      " [68 73 53 62 69 58 58 60]\n",
      " [68 60 70 64 77 65 70 66]]\n"
     ]
    }
   ],
   "source": [
    "calculate_metrics(preds_train, train_df['labels'])"
   ]
  },
  {
   "cell_type": "code",
   "execution_count": 26,
   "metadata": {},
   "outputs": [],
   "source": [
    "test_dataset = AudioDataset(test_data, audio_folder, is_train=False)\n",
    "test_loader = DataLoader(test_dataset, batch_size=32, shuffle=False)"
   ]
  },
  {
   "cell_type": "code",
   "execution_count": 27,
   "metadata": {},
   "outputs": [],
   "source": [
    "# Predict on the test set\n",
    "model.eval()\n",
    "predictions = []\n",
    "\n",
    "with torch.no_grad():\n",
    "    for mfccs, _ in test_loader:\n",
    "        outputs = model(mfccs)\n",
    "        _, predicted = torch.max(outputs, 1)\n",
    "        predictions.extend(predicted.cpu().numpy())"
   ]
  },
  {
   "cell_type": "code",
   "execution_count": 28,
   "metadata": {},
   "outputs": [],
   "source": [
    "pred_df = pd.DataFrame(test_data['id']).join(pd.DataFrame(data={'predictions':predictions}))"
   ]
  },
  {
   "cell_type": "code",
   "execution_count": 29,
   "metadata": {},
   "outputs": [],
   "source": [
    "label_class_map = dict(zip(val_df['labels'], val_df['class']))"
   ]
  },
  {
   "cell_type": "code",
   "execution_count": 30,
   "metadata": {},
   "outputs": [],
   "source": [
    "pred_df['class'] = pred_df['predictions'].map(label_class_map)\n",
    "pred_df[['id', 'class']].to_csv('thirteenth_submission.csv', index=False)"
   ]
  },
  {
   "cell_type": "code",
   "execution_count": 31,
   "metadata": {},
   "outputs": [],
   "source": [
    "# Save the model\n",
    "torch.save(model, 'models/thirteenth_model.pth')"
   ]
  },
  {
   "cell_type": "code",
   "execution_count": null,
   "metadata": {},
   "outputs": [],
   "source": []
  }
 ],
 "metadata": {
  "kernelspec": {
   "display_name": "base",
   "language": "python",
   "name": "python3"
  },
  "language_info": {
   "codemirror_mode": {
    "name": "ipython",
    "version": 3
   },
   "file_extension": ".py",
   "mimetype": "text/x-python",
   "name": "python",
   "nbconvert_exporter": "python",
   "pygments_lexer": "ipython3",
   "version": "3.12.3"
  }
 },
 "nbformat": 4,
 "nbformat_minor": 2
}
